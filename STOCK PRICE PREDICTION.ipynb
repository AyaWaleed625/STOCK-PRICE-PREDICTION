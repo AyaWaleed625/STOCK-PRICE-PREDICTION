{
 "cells": [
  {
   "cell_type": "code",
   "execution_count": 1,
   "id": "dfd66165",
   "metadata": {},
   "outputs": [],
   "source": [
    "import numpy as np\n",
    "import pandas as pd\n",
    "import seaborn as sns\n",
    "from matplotlib import pyplot as plt\n",
    "from sklearn.model_selection import train_test_split\n",
    "from sklearn.linear_model import LinearRegression\n",
    "from sklearn import metrics\n"
   ]
  },
  {
   "cell_type": "code",
   "execution_count": 2,
   "id": "cc60f3b6",
   "metadata": {},
   "outputs": [],
   "source": [
    "df= pd.read_csv('INR=X.csv')"
   ]
  },
  {
   "cell_type": "code",
   "execution_count": 3,
   "id": "204f7928",
   "metadata": {},
   "outputs": [
    {
     "data": {
      "text/html": [
       "<div>\n",
       "<style scoped>\n",
       "    .dataframe tbody tr th:only-of-type {\n",
       "        vertical-align: middle;\n",
       "    }\n",
       "\n",
       "    .dataframe tbody tr th {\n",
       "        vertical-align: top;\n",
       "    }\n",
       "\n",
       "    .dataframe thead th {\n",
       "        text-align: right;\n",
       "    }\n",
       "</style>\n",
       "<table border=\"1\" class=\"dataframe\">\n",
       "  <thead>\n",
       "    <tr style=\"text-align: right;\">\n",
       "      <th></th>\n",
       "      <th>Date</th>\n",
       "      <th>Open</th>\n",
       "      <th>High</th>\n",
       "      <th>Low</th>\n",
       "      <th>Close</th>\n",
       "      <th>Adj Close</th>\n",
       "      <th>Volume</th>\n",
       "    </tr>\n",
       "  </thead>\n",
       "  <tbody>\n",
       "    <tr>\n",
       "      <th>10</th>\n",
       "      <td>2020-02-10</td>\n",
       "      <td>71.504997</td>\n",
       "      <td>71.508003</td>\n",
       "      <td>71.259003</td>\n",
       "      <td>71.515503</td>\n",
       "      <td>71.515503</td>\n",
       "      <td>0</td>\n",
       "    </tr>\n",
       "    <tr>\n",
       "      <th>98</th>\n",
       "      <td>2020-06-11</td>\n",
       "      <td>75.875000</td>\n",
       "      <td>76.196999</td>\n",
       "      <td>75.500000</td>\n",
       "      <td>75.875000</td>\n",
       "      <td>75.875000</td>\n",
       "      <td>0</td>\n",
       "    </tr>\n",
       "    <tr>\n",
       "      <th>245</th>\n",
       "      <td>2021-01-04</td>\n",
       "      <td>73.092003</td>\n",
       "      <td>73.200996</td>\n",
       "      <td>72.798500</td>\n",
       "      <td>73.092003</td>\n",
       "      <td>73.092003</td>\n",
       "      <td>0</td>\n",
       "    </tr>\n",
       "    <tr>\n",
       "      <th>90</th>\n",
       "      <td>2020-06-01</td>\n",
       "      <td>75.513199</td>\n",
       "      <td>75.769997</td>\n",
       "      <td>75.235497</td>\n",
       "      <td>75.513199</td>\n",
       "      <td>75.513199</td>\n",
       "      <td>0</td>\n",
       "    </tr>\n",
       "    <tr>\n",
       "      <th>44</th>\n",
       "      <td>2020-03-27</td>\n",
       "      <td>74.725601</td>\n",
       "      <td>76.250000</td>\n",
       "      <td>73.989998</td>\n",
       "      <td>74.725601</td>\n",
       "      <td>74.725601</td>\n",
       "      <td>0</td>\n",
       "    </tr>\n",
       "    <tr>\n",
       "      <th>238</th>\n",
       "      <td>2020-12-24</td>\n",
       "      <td>73.839798</td>\n",
       "      <td>74.099998</td>\n",
       "      <td>73.450798</td>\n",
       "      <td>73.839798</td>\n",
       "      <td>73.839798</td>\n",
       "      <td>0</td>\n",
       "    </tr>\n",
       "    <tr>\n",
       "      <th>225</th>\n",
       "      <td>2020-12-07</td>\n",
       "      <td>73.790298</td>\n",
       "      <td>73.947998</td>\n",
       "      <td>73.631798</td>\n",
       "      <td>73.790298</td>\n",
       "      <td>73.790298</td>\n",
       "      <td>0</td>\n",
       "    </tr>\n",
       "    <tr>\n",
       "      <th>76</th>\n",
       "      <td>2020-05-12</td>\n",
       "      <td>75.927597</td>\n",
       "      <td>76.309998</td>\n",
       "      <td>75.041298</td>\n",
       "      <td>76.309998</td>\n",
       "      <td>76.309998</td>\n",
       "      <td>0</td>\n",
       "    </tr>\n",
       "    <tr>\n",
       "      <th>214</th>\n",
       "      <td>2020-11-20</td>\n",
       "      <td>74.099602</td>\n",
       "      <td>74.339203</td>\n",
       "      <td>74.072998</td>\n",
       "      <td>74.099602</td>\n",
       "      <td>74.099602</td>\n",
       "      <td>0</td>\n",
       "    </tr>\n",
       "    <tr>\n",
       "      <th>106</th>\n",
       "      <td>2020-06-23</td>\n",
       "      <td>76.000000</td>\n",
       "      <td>76.119797</td>\n",
       "      <td>75.472000</td>\n",
       "      <td>75.789803</td>\n",
       "      <td>75.789803</td>\n",
       "      <td>0</td>\n",
       "    </tr>\n",
       "  </tbody>\n",
       "</table>\n",
       "</div>"
      ],
      "text/plain": [
       "           Date       Open       High        Low      Close  Adj Close  Volume\n",
       "10   2020-02-10  71.504997  71.508003  71.259003  71.515503  71.515503       0\n",
       "98   2020-06-11  75.875000  76.196999  75.500000  75.875000  75.875000       0\n",
       "245  2021-01-04  73.092003  73.200996  72.798500  73.092003  73.092003       0\n",
       "90   2020-06-01  75.513199  75.769997  75.235497  75.513199  75.513199       0\n",
       "44   2020-03-27  74.725601  76.250000  73.989998  74.725601  74.725601       0\n",
       "238  2020-12-24  73.839798  74.099998  73.450798  73.839798  73.839798       0\n",
       "225  2020-12-07  73.790298  73.947998  73.631798  73.790298  73.790298       0\n",
       "76   2020-05-12  75.927597  76.309998  75.041298  76.309998  76.309998       0\n",
       "214  2020-11-20  74.099602  74.339203  74.072998  74.099602  74.099602       0\n",
       "106  2020-06-23  76.000000  76.119797  75.472000  75.789803  75.789803       0"
      ]
     },
     "execution_count": 3,
     "metadata": {},
     "output_type": "execute_result"
    }
   ],
   "source": [
    "df.sample(10)"
   ]
  },
  {
   "cell_type": "code",
   "execution_count": 4,
   "id": "79bac977",
   "metadata": {},
   "outputs": [
    {
     "name": "stdout",
     "output_type": "stream",
     "text": [
      "<class 'pandas.core.frame.DataFrame'>\n",
      "RangeIndex: 262 entries, 0 to 261\n",
      "Data columns (total 7 columns):\n",
      " #   Column     Non-Null Count  Dtype  \n",
      "---  ------     --------------  -----  \n",
      " 0   Date       262 non-null    object \n",
      " 1   Open       262 non-null    float64\n",
      " 2   High       262 non-null    float64\n",
      " 3   Low        262 non-null    float64\n",
      " 4   Close      262 non-null    float64\n",
      " 5   Adj Close  262 non-null    float64\n",
      " 6   Volume     262 non-null    int64  \n",
      "dtypes: float64(5), int64(1), object(1)\n",
      "memory usage: 14.5+ KB\n"
     ]
    }
   ],
   "source": [
    "df.info()"
   ]
  },
  {
   "cell_type": "code",
   "execution_count": 5,
   "id": "053e5613",
   "metadata": {},
   "outputs": [
    {
     "data": {
      "text/plain": [
       "0"
      ]
     },
     "execution_count": 5,
     "metadata": {},
     "output_type": "execute_result"
    }
   ],
   "source": [
    "df.duplicated().sum()"
   ]
  },
  {
   "cell_type": "code",
   "execution_count": 6,
   "id": "2343633c",
   "metadata": {},
   "outputs": [
    {
     "data": {
      "text/plain": [
       "Date         0\n",
       "Open         0\n",
       "High         0\n",
       "Low          0\n",
       "Close        0\n",
       "Adj Close    0\n",
       "Volume       0\n",
       "dtype: int64"
      ]
     },
     "execution_count": 6,
     "metadata": {},
     "output_type": "execute_result"
    }
   ],
   "source": [
    "df.isnull().sum()"
   ]
  },
  {
   "cell_type": "code",
   "execution_count": 7,
   "id": "36d249f0",
   "metadata": {},
   "outputs": [
    {
     "data": {
      "text/plain": [
       "(262, 7)"
      ]
     },
     "execution_count": 7,
     "metadata": {},
     "output_type": "execute_result"
    }
   ],
   "source": [
    "df.shape"
   ]
  },
  {
   "cell_type": "code",
   "execution_count": 15,
   "id": "e525616d",
   "metadata": {},
   "outputs": [],
   "source": [
    "X = df.drop(['Adj Close','Volume','Date'],axis=1)\n",
    "Y = df['Adj Close']"
   ]
  },
  {
   "cell_type": "code",
   "execution_count": 16,
   "id": "ed459073",
   "metadata": {},
   "outputs": [],
   "source": [
    "X_train, X_test, Y_train, Y_test = train_test_split(X, Y, test_size = 0.1, random_state=2)"
   ]
  },
  {
   "cell_type": "code",
   "execution_count": 17,
   "id": "4276c053",
   "metadata": {},
   "outputs": [],
   "source": [
    "model = LinearRegression()"
   ]
  },
  {
   "cell_type": "code",
   "execution_count": 18,
   "id": "f3f84e9b",
   "metadata": {},
   "outputs": [
    {
     "data": {
      "text/plain": [
       "LinearRegression()"
      ]
     },
     "execution_count": 18,
     "metadata": {},
     "output_type": "execute_result"
    }
   ],
   "source": [
    "model.fit(X_train,Y_train)"
   ]
  },
  {
   "cell_type": "code",
   "execution_count": 19,
   "id": "e214b015",
   "metadata": {},
   "outputs": [
    {
     "data": {
      "text/plain": [
       "1.0"
      ]
     },
     "execution_count": 19,
     "metadata": {},
     "output_type": "execute_result"
    }
   ],
   "source": [
    "model.score(X_train,Y_train)"
   ]
  },
  {
   "cell_type": "code",
   "execution_count": 20,
   "id": "6f83e640",
   "metadata": {},
   "outputs": [
    {
     "data": {
      "text/plain": [
       "array([75.789803, 75.625   , 75.158501, 76.650002, 71.300003, 75.513199,\n",
       "       75.985001, 73.544899, 73.860001, 73.620003, 75.544998, 75.959999,\n",
       "       76.400398, 76.2715  , 74.759804, 73.935303, 73.9953  , 73.778397,\n",
       "       71.515503, 74.939903, 73.979797, 74.989998, 73.790298, 75.75    ,\n",
       "       73.217003, 71.296204, 73.903999])"
      ]
     },
     "execution_count": 20,
     "metadata": {},
     "output_type": "execute_result"
    }
   ],
   "source": [
    "model.predict(X_test)"
   ]
  },
  {
   "cell_type": "code",
   "execution_count": 21,
   "id": "bc0dc9aa",
   "metadata": {},
   "outputs": [
    {
     "data": {
      "text/plain": [
       "106    75.789803\n",
       "84     75.625000\n",
       "120    75.158501\n",
       "54     76.650002\n",
       "3      71.300003\n",
       "90     75.513199\n",
       "85     75.985001\n",
       "241    73.544899\n",
       "231    73.860001\n",
       "187    73.620003\n",
       "93     75.544998\n",
       "89     75.959999\n",
       "104    76.400398\n",
       "65     76.271500\n",
       "130    74.759804\n",
       "236    73.935303\n",
       "30     73.995300\n",
       "173    73.778397\n",
       "10     71.515503\n",
       "118    74.939903\n",
       "205    73.979797\n",
       "126    74.989998\n",
       "225    73.790298\n",
       "112    75.750000\n",
       "179    73.217003\n",
       "13     71.296204\n",
       "35     73.903999\n",
       "Name: Adj Close, dtype: float64"
      ]
     },
     "execution_count": 21,
     "metadata": {},
     "output_type": "execute_result"
    }
   ],
   "source": [
    "Y_test"
   ]
  },
  {
   "cell_type": "code",
   "execution_count": 22,
   "id": "3f5de4f3",
   "metadata": {},
   "outputs": [
    {
     "name": "stdout",
     "output_type": "stream",
     "text": [
      "Mean Squared Error: 0.004096383777253231\n"
     ]
    }
   ],
   "source": [
    "from sklearn.svm import SVR\n",
    "from sklearn.metrics import accuracy_score\n",
    "from sklearn.metrics import mean_squared_error\n",
    "\n",
    "# Create an SVR model\n",
    "svr = SVR()\n",
    "\n",
    "\n",
    "# Train the model using the training data\n",
    "svr.fit(X_train, Y_train)\n",
    "\n",
    "# Predict the target values for the test data\n",
    "y_pred = svr.predict(X_test)\n",
    "\n",
    "# Calculate the mean squared error\n",
    "mse = mean_squared_error(Y_test, y_pred)\n",
    "print(\"Mean Squared Error:\", mse)\n"
   ]
  },
  {
   "cell_type": "code",
   "execution_count": 23,
   "id": "c1f71e2d",
   "metadata": {},
   "outputs": [
    {
     "data": {
      "text/plain": [
       "0.9974734202617809"
      ]
     },
     "execution_count": 23,
     "metadata": {},
     "output_type": "execute_result"
    }
   ],
   "source": [
    "svr.score(X_train,Y_train)"
   ]
  },
  {
   "cell_type": "code",
   "execution_count": 24,
   "id": "ed09d12c",
   "metadata": {},
   "outputs": [
    {
     "data": {
      "text/plain": [
       "array([75.789803, 75.625   , 75.158501, 76.650002, 71.300003, 75.513199,\n",
       "       75.985001, 73.544899, 73.860001, 73.620003, 75.544998, 75.959999,\n",
       "       76.400398, 76.2715  , 74.759804, 73.935303, 73.9953  , 73.778397,\n",
       "       71.515503, 74.939903, 73.979797, 74.989998, 73.790298, 75.75    ,\n",
       "       73.217003, 71.296204, 73.903999])"
      ]
     },
     "execution_count": 24,
     "metadata": {},
     "output_type": "execute_result"
    }
   ],
   "source": [
    "model.predict(X_test)"
   ]
  },
  {
   "cell_type": "code",
   "execution_count": 25,
   "id": "3224bfd0",
   "metadata": {},
   "outputs": [
    {
     "data": {
      "text/plain": [
       "106    75.789803\n",
       "84     75.625000\n",
       "120    75.158501\n",
       "54     76.650002\n",
       "3      71.300003\n",
       "90     75.513199\n",
       "85     75.985001\n",
       "241    73.544899\n",
       "231    73.860001\n",
       "187    73.620003\n",
       "93     75.544998\n",
       "89     75.959999\n",
       "104    76.400398\n",
       "65     76.271500\n",
       "130    74.759804\n",
       "236    73.935303\n",
       "30     73.995300\n",
       "173    73.778397\n",
       "10     71.515503\n",
       "118    74.939903\n",
       "205    73.979797\n",
       "126    74.989998\n",
       "225    73.790298\n",
       "112    75.750000\n",
       "179    73.217003\n",
       "13     71.296204\n",
       "35     73.903999\n",
       "Name: Adj Close, dtype: float64"
      ]
     },
     "execution_count": 25,
     "metadata": {},
     "output_type": "execute_result"
    }
   ],
   "source": [
    "Y_test"
   ]
  },
  {
   "cell_type": "code",
   "execution_count": null,
   "id": "f3459d81",
   "metadata": {},
   "outputs": [],
   "source": []
  }
 ],
 "metadata": {
  "kernelspec": {
   "display_name": "Python 3",
   "language": "python",
   "name": "python3"
  },
  "language_info": {
   "codemirror_mode": {
    "name": "ipython",
    "version": 3
   },
   "file_extension": ".py",
   "mimetype": "text/x-python",
   "name": "python",
   "nbconvert_exporter": "python",
   "pygments_lexer": "ipython3",
   "version": "3.8.8"
  }
 },
 "nbformat": 4,
 "nbformat_minor": 5
}
